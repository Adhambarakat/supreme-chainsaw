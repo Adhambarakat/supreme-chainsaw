{
  "nbformat": 4,
  "nbformat_minor": 0,
  "metadata": {
    "colab": {
      "provenance": [],
      "authorship_tag": "ABX9TyPEZi9Z3zUcgIHMauH8NkEA",
      "include_colab_link": true
    },
    "kernelspec": {
      "name": "python3",
      "display_name": "Python 3"
    },
    "language_info": {
      "name": "python"
    }
  },
  "cells": [
    {
      "cell_type": "markdown",
      "metadata": {
        "id": "view-in-github",
        "colab_type": "text"
      },
      "source": [
        "<a href=\"https://colab.research.google.com/github/Adhambarakat/supreme-chainsaw/blob/main/Untitled13.ipynb\" target=\"_parent\"><img src=\"https://colab.research.google.com/assets/colab-badge.svg\" alt=\"Open In Colab\"/></a>"
      ]
    },
    {
      "cell_type": "code",
      "execution_count": 2,
      "metadata": {
        "colab": {
          "base_uri": "https://localhost:8080/"
        },
        "id": "TDCWk7Uk66go",
        "outputId": "511cfaf4-2212-413f-f1d0-0bc7aca8f1dc"
      },
      "outputs": [
        {
          "output_type": "stream",
          "name": "stdout",
          "text": [
            "Drive already mounted at /content/drive; to attempt to forcibly remount, call drive.mount(\"/content/drive\", force_remount=True).\n"
          ]
        }
      ],
      "source": [
        "import numpy as np\n",
        "from google.colab import drive\n",
        "drive.mount('/content/drive')\n",
        "import pandas as pd\n",
        "import os\n",
        "!mkdir -p \"/content/drive/My Drive/PTT\"\n"
      ]
    },
    {
      "cell_type": "code",
      "source": [
        "url = 'https://drive.google.com/uc?id={1TEk4TE_I4BqX74N-QuMZALdZ8qX4-mtbbovMqXXlzMg}'.format(file_id)\n",
        "df = pd.read_csv(url)\n",
        "ppg=\n",
        "ecg="
      ],
      "metadata": {
        "colab": {
          "base_uri": "https://localhost:8080/",
          "height": 131
        },
        "id": "dgTcSEcz7A3J",
        "outputId": "44c53479-4700-42e7-8108-d55799c22e59"
      },
      "execution_count": 5,
      "outputs": [
        {
          "output_type": "error",
          "ename": "SyntaxError",
          "evalue": "ignored",
          "traceback": [
            "\u001b[0;36m  File \u001b[0;32m\"<ipython-input-5-a4e994ed9a9d>\"\u001b[0;36m, line \u001b[0;32m3\u001b[0m\n\u001b[0;31m    ppg=\u001b[0m\n\u001b[0m        ^\u001b[0m\n\u001b[0;31mSyntaxError\u001b[0m\u001b[0;31m:\u001b[0m invalid syntax\n"
          ]
        }
      ]
    },
    {
      "cell_type": "code",
      "source": [
        "#calculation\n",
        "def ptt(ecg, ppg):\n",
        "    ecg = np.array(ecg)\n",
        "    ppg = np.array(ppg)\n",
        "    ecg = ecg - np.mean(ecg)\n",
        "    ppg = ppg - np.mean(ppg)\n",
        "    ecg = ecg / np.max(ecg)\n",
        "    ppg = ppg / np.max(ppg)\n",
        "    ecg_diff = np.diff(ecg)\n",
        "    ppg_diff = np.diff(ppg)\n",
        "    ecg_diff[ecg_diff < 0] = 0\n",
        "    ppg_diff[ppg_diff < 0] = 0\n",
        "    ecg_diff = ecg_diff / np.max(ecg_diff)\n",
        "    ppg_diff = ppg_diff / np.max(ppg_diff)\n",
        "    ecg_peaks = np.where(ecg_diff > 0.5)[0]\n",
        "    ppg_peaks = np.where(ppg_diff > 0.5)[0]\n",
        "    if len(ecg_peaks) > len(ppg_peaks):\n",
        "        ecg_peaks = ecg_peaks[:len(ppg_peaks)]\n",
        "    else:\n",
        "        ppg_peaks = ppg_peaks[:len(ecg_peaks)]\n",
        "    return (ppg_peaks - ecg_peaks).mean()\n",
        "\n",
        "    PTT=ptt(ppg,ecg)\n",
        "    PTT.to_excel('/content/drive/PTT', index=False)"
      ],
      "metadata": {
        "id": "5EOZp8JH6_E-"
      },
      "execution_count": null,
      "outputs": []
    }
  ]
}
