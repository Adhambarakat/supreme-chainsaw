{
  "nbformat": 4,
  "nbformat_minor": 0,
  "metadata": {
    "colab": {
      "provenance": [],
      "include_colab_link": true
    },
    "kernelspec": {
      "name": "python3",
      "display_name": "Python 3"
    },
    "language_info": {
      "name": "python"
    }
  },
  "cells": [
    {
      "cell_type": "markdown",
      "metadata": {
        "id": "view-in-github",
        "colab_type": "text"
      },
      "source": [
        "<a href=\"https://colab.research.google.com/github/Adhambarakat/supreme-chainsaw/blob/main/regressionXiotloadmodel.ipynb\" target=\"_parent\"><img src=\"https://colab.research.google.com/assets/colab-badge.svg\" alt=\"Open In Colab\"/></a>"
      ]
    },
    {
      "cell_type": "markdown",
      "source": [
        "Installing Dependencies"
      ],
      "metadata": {
        "id": "ZqlsYAhOL4r_"
      }
    },
    {
      "cell_type": "code",
      "execution_count": 9,
      "metadata": {
        "colab": {
          "base_uri": "https://localhost:8080/"
        },
        "id": "KjIEE5TCLkDS",
        "outputId": "92939a91-d0bf-415c-a760-c6021c1b8063"
      },
      "outputs": [
        {
          "output_type": "stream",
          "name": "stdout",
          "text": [
            "Requirement already satisfied: influxdb-client in /usr/local/lib/python3.10/dist-packages (1.36.1)\n",
            "Requirement already satisfied: reactivex>=4.0.4 in /usr/local/lib/python3.10/dist-packages (from influxdb-client) (4.0.4)\n",
            "Requirement already satisfied: certifi>=14.05.14 in /usr/local/lib/python3.10/dist-packages (from influxdb-client) (2023.5.7)\n",
            "Requirement already satisfied: python-dateutil>=2.5.3 in /usr/local/lib/python3.10/dist-packages (from influxdb-client) (2.8.2)\n",
            "Requirement already satisfied: setuptools>=21.0.0 in /usr/local/lib/python3.10/dist-packages (from influxdb-client) (67.7.2)\n",
            "Requirement already satisfied: urllib3>=1.26.0 in /usr/local/lib/python3.10/dist-packages (from influxdb-client) (1.26.16)\n",
            "Requirement already satisfied: six>=1.5 in /usr/local/lib/python3.10/dist-packages (from python-dateutil>=2.5.3->influxdb-client) (1.16.0)\n",
            "Requirement already satisfied: typing-extensions<5.0.0,>=4.1.1 in /usr/local/lib/python3.10/dist-packages (from reactivex>=4.0.4->influxdb-client) (4.7.1)\n",
            "Requirement already satisfied: flightsql-dbapi in /usr/local/lib/python3.10/dist-packages (0.2.1)\n",
            "Requirement already satisfied: protobuf>=4.21.0 in /usr/local/lib/python3.10/dist-packages (from flightsql-dbapi) (4.23.4)\n",
            "Requirement already satisfied: pyarrow>=10.0.0 in /usr/local/lib/python3.10/dist-packages (from flightsql-dbapi) (12.0.1)\n",
            "Requirement already satisfied: sqlalchemy<2.0 in /usr/local/lib/python3.10/dist-packages (from flightsql-dbapi) (1.4.49)\n",
            "Requirement already satisfied: numpy>=1.16.6 in /usr/local/lib/python3.10/dist-packages (from pyarrow>=10.0.0->flightsql-dbapi) (1.22.4)\n",
            "Requirement already satisfied: greenlet!=0.4.17 in /usr/local/lib/python3.10/dist-packages (from sqlalchemy<2.0->flightsql-dbapi) (2.0.2)\n",
            "Requirement already satisfied: pandas in /usr/local/lib/python3.10/dist-packages (1.5.3)\n",
            "Requirement already satisfied: python-dateutil>=2.8.1 in /usr/local/lib/python3.10/dist-packages (from pandas) (2.8.2)\n",
            "Requirement already satisfied: pytz>=2020.1 in /usr/local/lib/python3.10/dist-packages (from pandas) (2022.7.1)\n",
            "Requirement already satisfied: numpy>=1.21.0 in /usr/local/lib/python3.10/dist-packages (from pandas) (1.22.4)\n",
            "Requirement already satisfied: six>=1.5 in /usr/local/lib/python3.10/dist-packages (from python-dateutil>=2.8.1->pandas) (1.16.0)\n",
            "Requirement already satisfied: paho-mqtt in /usr/local/lib/python3.10/dist-packages (1.6.1)\n"
          ]
        }
      ],
      "source": [
        "!pip install influxdb-client\n",
        "!pip install flightsql-dbapi\n",
        "!pip install pandas\n",
        "!pip3 install paho-mqtt"
      ]
    },
    {
      "cell_type": "markdown",
      "source": [
        "Importing Libraries"
      ],
      "metadata": {
        "id": "5g9SnN-yBu_E"
      }
    },
    {
      "cell_type": "code",
      "source": [
        "import influxdb_client, os, time\n",
        "from influxdb_client import InfluxDBClient, Point, WritePrecision\n",
        "from influxdb_client.client.write_api import SYNCHRONOUS\n",
        "import time\n",
        "import paho.mqtt.client as paho\n",
        "from paho import mqtt\n",
        "import numpy as np\n",
        "import pandas as pd\n",
        "import tensorflow as tf\n",
        "from tensorflow import keras\n",
        "from keras.engine.training import optimizer\n",
        "import matplotlib.pyplot as plt\n",
        "import keras.utils as to_categorica\n",
        "from sklearn.model_selection import train_test_split\n",
        "from sklearn.metrics import mean_absolute_error"
      ],
      "metadata": {
        "id": "uAhxZRXMB1Tm"
      },
      "execution_count": 10,
      "outputs": []
    },
    {
      "cell_type": "markdown",
      "source": [
        "Allocating Data"
      ],
      "metadata": {
        "id": "CMKdnpogHJRs"
      }
    },
    {
      "cell_type": "code",
      "source": [
        "#allocating data\n",
        "data = pd.read_excel('/content/a7a6.xlsx')\n",
        "input_dim=1\n",
        "PPG = data['PPG']  #ptt training\n",
        "SBP = data['SBP']  #systolic\n",
        "DBP = data['DBP']  #diastolic\n",
        "EXP = np.column_stack((SBP,DBP))"
      ],
      "metadata": {
        "id": "cD7FlPofHMIn"
      },
      "execution_count": 16,
      "outputs": []
    },
    {
      "cell_type": "code",
      "source": [
        "x_train,x_test,y_train,y_test = train_test_split(PPG,EXP, random_state=42, train_size=.8)"
      ],
      "metadata": {
        "id": "qqTgz8RNIOba"
      },
      "execution_count": null,
      "outputs": []
    },
    {
      "cell_type": "markdown",
      "source": [
        "Defining the Model"
      ],
      "metadata": {
        "id": "Oi4_ingAHrrB"
      }
    },
    {
      "cell_type": "code",
      "source": [
        "#defining the model\n",
        "model = tf.keras.Sequential([\n",
        "    tf.keras.layers.Dense(units=16, activation='relu', input_shape=[input_dim]),\n",
        "    tf.keras.layers.Dense(units=2, input_shape=[input_dim])\n",
        "])"
      ],
      "metadata": {
        "id": "eaJeTyT9Hqi9"
      },
      "execution_count": null,
      "outputs": []
    },
    {
      "cell_type": "markdown",
      "source": [
        "Compiling the Model"
      ],
      "metadata": {
        "id": "QquXZ2zvIAnE"
      }
    },
    {
      "cell_type": "code",
      "source": [
        "model.compile(optimizer='adam',loss='mean_squared_error',metrics=['mae'])"
      ],
      "metadata": {
        "id": "b2u7weUdIA_v"
      },
      "execution_count": null,
      "outputs": []
    },
    {
      "cell_type": "markdown",
      "source": [
        "Training the Model"
      ],
      "metadata": {
        "id": "u_F_38QcIJIh"
      }
    },
    {
      "cell_type": "code",
      "source": [
        "model.fit(abs(x_train), y_train, epochs=10, batch_size=100)\n",
        "model.save('model.h5')"
      ],
      "metadata": {
        "colab": {
          "base_uri": "https://localhost:8080/"
        },
        "id": "kx8QtrdnIJaR",
        "outputId": "8d5e5899-c558-4dfd-a555-f48fc3c01ecf"
      },
      "execution_count": null,
      "outputs": [
        {
          "output_type": "stream",
          "name": "stdout",
          "text": [
            "Epoch 1/10\n",
            "6292/6292 [==============================] - 15s 2ms/step - loss: 2046.2035 - mae: 30.3627 - val_loss: 340.3427 - val_mae: 13.4921\n",
            "Epoch 2/10\n",
            "6292/6292 [==============================] - 14s 2ms/step - loss: 125.3334 - mae: 8.4710 - val_loss: 291.8344 - val_mae: 12.6877\n",
            "Epoch 3/10\n",
            "6292/6292 [==============================] - 15s 2ms/step - loss: 115.8575 - mae: 8.0166 - val_loss: 290.7965 - val_mae: 12.7028\n",
            "Epoch 4/10\n",
            "6292/6292 [==============================] - 15s 2ms/step - loss: 115.8615 - mae: 8.0173 - val_loss: 291.6068 - val_mae: 12.7100\n",
            "Epoch 5/10\n",
            "6292/6292 [==============================] - 14s 2ms/step - loss: 115.8610 - mae: 8.0171 - val_loss: 290.1551 - val_mae: 12.6919\n",
            "Epoch 6/10\n",
            "6292/6292 [==============================] - 13s 2ms/step - loss: 115.8591 - mae: 8.0171 - val_loss: 288.6693 - val_mae: 12.6674\n",
            "Epoch 7/10\n",
            "6292/6292 [==============================] - 13s 2ms/step - loss: 115.8651 - mae: 8.0169 - val_loss: 291.1793 - val_mae: 12.7312\n",
            "Epoch 8/10\n",
            "6292/6292 [==============================] - 16s 2ms/step - loss: 115.8617 - mae: 8.0171 - val_loss: 292.3456 - val_mae: 12.7006\n",
            "Epoch 9/10\n",
            "6292/6292 [==============================] - 18s 3ms/step - loss: 115.8576 - mae: 8.0168 - val_loss: 290.9980 - val_mae: 12.6939\n",
            "Epoch 10/10\n",
            "6292/6292 [==============================] - 14s 2ms/step - loss: 115.8589 - mae: 8.0172 - val_loss: 291.5880 - val_mae: 12.6907\n"
          ]
        },
        {
          "output_type": "execute_result",
          "data": {
            "text/plain": [
              "<keras.callbacks.History at 0x7f78357238e0>"
            ]
          },
          "metadata": {},
          "execution_count": 146
        }
      ]
    },
    {
      "cell_type": "code",
      "source": [
        "model=tf.keras.models.load_model('model.h5')"
      ],
      "metadata": {
        "id": "Zqh4r3DIq2Nz"
      },
      "execution_count": 13,
      "outputs": []
    },
    {
      "cell_type": "code",
      "source": [
        "loss, mae = model.evaluate(x_test, y_test)"
      ],
      "metadata": {
        "id": "t4DnkyEhSOp3"
      },
      "execution_count": null,
      "outputs": []
    },
    {
      "cell_type": "markdown",
      "source": [
        "Connecting to Influxdb"
      ],
      "metadata": {
        "id": "mTGjLUzxB9DN"
      }
    },
    {
      "cell_type": "code",
      "execution_count": 14,
      "metadata": {
        "id": "P6QFOMwg5PiR",
        "colab": {
          "base_uri": "https://localhost:8080/"
        },
        "outputId": "35152075-6fb6-4a1a-d5dd-3b0606b90495"
      },
      "outputs": [
        {
          "output_type": "stream",
          "name": "stdout",
          "text": [
            "123\n"
          ]
        }
      ],
      "source": [
        "# !export INFLUXDB_TOKEN=-g6iC2cK-mwZpYCPaiKdDOyyX5P1vkncIDSigkxs_ImaQJUDUm1-87FX4peKEmW4F2DC9CMSqZKVVTLNvXERSg==\n",
        "\n",
        "#token = os.environ.get(\"INFLUXDB_TOKEN\")\n",
        "token = \"-g6iC2cK-mwZpYCPaiKdDOyyX5P1vkncIDSigkxs_ImaQJUDUm1-87FX4peKEmW4F2DC9CMSqZKVVTLNvXERSg==\"\n",
        "org = \"test\"\n",
        "url = \"https://us-east-1-1.aws.cloud2.influxdata.com\"\n",
        "\n",
        "write_client = influxdb_client.InfluxDBClient(url=url, token=token, org=org)\n",
        "\n",
        "x = 123\n",
        "print (x)"
      ]
    },
    {
      "cell_type": "markdown",
      "source": [
        "Receiving and Sending Data"
      ],
      "metadata": {
        "id": "ESvYqoRjIeG0"
      }
    },
    {
      "cell_type": "code",
      "source": [
        "# setting callbacks for different events to see if it works, print the message etc.\n",
        "def on_connect(client, userdata, flags, rc, properties=None):\n",
        "    print(\"CONNACK received with code %s.\" % rc)\n",
        "\n",
        "# with this callback you can see if your publish was successful\n",
        "def on_publish(client, userdata, mid, properties=None):\n",
        "    print(\"mid: \" + str(mid))\n",
        "\n",
        "# print which topic was subscribed to\n",
        "def on_subscribe(client, userdata, mid, granted_qos, properties=None):\n",
        "    print(\"Subscribed: \" + str(mid) + \" \" + str(granted_qos))\n",
        "\n",
        "# print message, useful for checking if it was successful\n",
        "def on_message(client, userdata, msg):\n",
        "    #print(msg.topic + \" \" + str(msg.qos) + \" \" + str(msg.payload))\n",
        "    #print(int(msg.payload))\n",
        "    if msg.topic == \"avgbpm\" :\n",
        "      bucket=\"colabtest\"\n",
        "      # Define the write api\n",
        "      write_api = write_client.write_api(write_options=SYNCHRONOUS)\n",
        "      data = {\n",
        "        \"point1\": {\n",
        "          \"location\": \"Hospital\",\n",
        "          \"dataa\": \"avghr\",\n",
        "          \"valuee\": int(msg.payload),\n",
        "        },\n",
        "      }\n",
        "      for key in data:\n",
        "        point = (\n",
        "          Point(\"avghr\")\n",
        "          .tag(\"location\", data[key][\"location\"])\n",
        "          .field(data[key][\"dataa\"], data[key][\"valuee\"])\n",
        "        )\n",
        "      write_api.write(bucket=bucket, org=org, record=point)\n",
        "      time.sleep(1) # separate points by 1 second\n",
        "      print(\"Complete. Return to the InfluxDB UI.\")\n",
        "      print(msg.payload)\n",
        "    elif msg.topic == \"ppg\" :\n",
        "      x_new=[[float(int(msg.payload)/100)]]\n",
        "      y_new = model.predict(np.array([[x_new]]))\n",
        "      a = y_new[0]\n",
        "      b = a[0]\n",
        "      c = b[0]\n",
        "      sbp = int(c[0])\n",
        "      dbp = int(c[1])\n",
        "      bucket=\"colabtest\"\n",
        "      # Define the write api\n",
        "      write_api = write_client.write_api(write_options=SYNCHRONOUS)\n",
        "      data = {\n",
        "        \"point2\": {\n",
        "          \"location\": \"Hospital\",\n",
        "          \"dataa\": \"sbp\",\n",
        "          \"valuee\": sbp,\n",
        "        },\n",
        "      }\n",
        "      for key in data:\n",
        "        point = (\n",
        "          Point(\"sp\")\n",
        "          .tag(\"location\", data[key][\"location\"])\n",
        "          .field(data[key][\"dataa\"], data[key][\"valuee\"])\n",
        "        )\n",
        "      write_api.write(bucket=bucket, org=org, record=point)\n",
        "      time.sleep(1) # separate points by 1 second\n",
        "      print(\"Complete. Return to the InfluxDB UI.\")\n",
        "      bucket=\"colabtest\"\n",
        "      # Define the write api\n",
        "      write_api = write_client.write_api(write_options=SYNCHRONOUS)\n",
        "      data = {\n",
        "        \"point3\": {\n",
        "          \"location\": \"Hospital\",\n",
        "          \"dataa\": \"dbp\",\n",
        "          \"valuee\": dbp+20,\n",
        "        },\n",
        "      }\n",
        "      for key in data:\n",
        "        point = (\n",
        "          Point(\"dp\")\n",
        "          .tag(\"location\", data[key][\"location\"])\n",
        "          .field(data[key][\"dataa\"], data[key][\"valuee\"])\n",
        "        )\n",
        "      write_api.write(bucket=bucket, org=org, record=point)\n",
        "      time.sleep(1) # separate points by 1 second\n",
        "      print(\"Complete. Return to the InfluxDB UI.\")\n",
        "      print(sbp)\n",
        "      print(dbp+20)\n",
        "    else :\n",
        "      bucket=\"colabtest\"\n",
        "      # Define the write api\n",
        "      write_api = write_client.write_api(write_options=SYNCHRONOUS)\n",
        "      data = {\n",
        "        \"point4\": {\n",
        "          \"location\": \"Hospital\",\n",
        "          \"dataa\": \"acchr\",\n",
        "          \"valuee\": int(msg.payload),\n",
        "        },\n",
        "      }\n",
        "      for key in data:\n",
        "        point = (\n",
        "          Point(\"acchr\")\n",
        "          .tag(\"location\", data[key][\"location\"])\n",
        "          .field(data[key][\"dataa\"], data[key][\"valuee\"])\n",
        "        )\n",
        "      write_api.write(bucket=bucket, org=org, record=point)\n",
        "      time.sleep(1) # separate points by 1 second\n",
        "      print(\"Complete. Return to the InfluxDB UI.\")\n",
        "      print(msg.payload)\n",
        "\n",
        "\n",
        "    \"\"\"\n",
        "    bucket=\"colabtest\"\n",
        "    # Define the write api\n",
        "    write_api = write_client.write_api(write_options=SYNCHRONOUS)\n",
        "    data = {\n",
        "      \"point4\": {\n",
        "        \"location\": \"Hospital\",\n",
        "        \"dataa\": \"hr\",\n",
        "        \"valuee\": int(msg.payload),\n",
        "      },\n",
        "    }\n",
        "    for key in data:\n",
        "      point = (\n",
        "        Point(\"bps\")\n",
        "        .tag(\"location\", data[key][\"location\"])\n",
        "        .field(data[key][\"dataa\"], data[key][\"valuee\"])\n",
        "      )\n",
        "    write_api.write(bucket=bucket, org=org, record=point)\n",
        "    time.sleep(1) # separate points by 1 second\n",
        "    print(\"Complete. Return to the InfluxDB UI.\")\n",
        "    \"\"\"\n",
        "\n",
        "\n",
        "\n",
        "# using MQTT version 5 here, for 3.1.1: MQTTv311, 3.1: MQTTv31\n",
        "# userdata is user defined data of any type, updated by user_data_set()\n",
        "# client_id is the given name of the client\n",
        "client = paho.Client(client_id=\"\", userdata=None, protocol=paho.MQTTv5)\n",
        "client.on_connect = on_connect\n",
        "\n",
        "# enable TLS for secure connection\n",
        "client.tls_set(tls_version=mqtt.client.ssl.PROTOCOL_TLS)\n",
        "# set username and password\n",
        "client.username_pw_set(\"ahmed\", \"Ahmed1603\")\n",
        "# connect to HiveMQ Cloud on port 8883 (default for MQTT)\n",
        "client.connect(\"7ea331cfad864375a4a189652c9375e0.s1.eu.hivemq.cloud\", 8883)\n",
        "\n",
        "# setting callbacks, use separate functions like above for better visibility\n",
        "client.on_subscribe = on_subscribe\n",
        "client.on_message = on_message\n",
        "client.on_publish = on_publish\n",
        "\n",
        "# subscribe to all topics of encyclopedia by using the wildcard \"#\"\n",
        "client.subscribe(\"bpm\", qos=1)\n",
        "client.subscribe(\"ppg\", qos=1)\n",
        "client.subscribe(\"avgbpm\", qos=1)\n",
        "\n",
        "# a single publish, this can also be done in loops, etc.\n",
        "# client.publish(\"encyclopedia/temperature\", payload=\"hot\", qos=1)\n",
        "\n",
        "# loop_forever for simplicity, here you need to stop the loop manually\n",
        "# you can also use loop_start and loop_stop\n",
        "client.loop_forever()"
      ],
      "metadata": {
        "colab": {
          "base_uri": "https://localhost:8080/",
          "height": 1000
        },
        "id": "RZHKm9XNNvC2",
        "outputId": "3241d86c-97d1-4253-ce73-a21cec9be810"
      },
      "execution_count": 17,
      "outputs": [
        {
          "output_type": "stream",
          "name": "stdout",
          "text": [
            "CONNACK received with code Success.\n",
            "Subscribed: 1 [<paho.mqtt.reasoncodes.ReasonCodes object at 0x7cf7c1cc66e0>]\n",
            "Subscribed: 2 [<paho.mqtt.reasoncodes.ReasonCodes object at 0x7cf7c1cc6710>]\n",
            "Subscribed: 3 [<paho.mqtt.reasoncodes.ReasonCodes object at 0x7cf7c1cc58a0>]\n",
            "Complete. Return to the InfluxDB UI.\n",
            "b'80'\n",
            "1/1 [==============================] - 0s 41ms/step\n",
            "Complete. Return to the InfluxDB UI.\n",
            "Complete. Return to the InfluxDB UI.\n",
            "122\n",
            "71\n",
            "Complete. Return to the InfluxDB UI.\n",
            "b'78'\n",
            "1/1 [==============================] - 0s 25ms/step\n",
            "Complete. Return to the InfluxDB UI.\n",
            "Complete. Return to the InfluxDB UI.\n",
            "125\n",
            "69\n",
            "Complete. Return to the InfluxDB UI.\n",
            "b'87'\n",
            "1/1 [==============================] - 0s 27ms/step\n",
            "Complete. Return to the InfluxDB UI.\n",
            "Complete. Return to the InfluxDB UI.\n",
            "127\n",
            "68\n",
            "Complete. Return to the InfluxDB UI.\n",
            "b'80'\n",
            "1/1 [==============================] - 0s 23ms/step\n",
            "Complete. Return to the InfluxDB UI.\n",
            "Complete. Return to the InfluxDB UI.\n",
            "123\n",
            "70\n",
            "Complete. Return to the InfluxDB UI.\n",
            "b'80'\n",
            "1/1 [==============================] - 0s 39ms/step\n",
            "Complete. Return to the InfluxDB UI.\n",
            "Complete. Return to the InfluxDB UI.\n",
            "125\n",
            "69\n",
            "Complete. Return to the InfluxDB UI.\n",
            "b'76'\n",
            "1/1 [==============================] - 0s 24ms/step\n",
            "Complete. Return to the InfluxDB UI.\n"
          ]
        },
        {
          "output_type": "error",
          "ename": "KeyboardInterrupt",
          "evalue": "ignored",
          "traceback": [
            "\u001b[0;31m---------------------------------------------------------------------------\u001b[0m",
            "\u001b[0;31mKeyboardInterrupt\u001b[0m                         Traceback (most recent call last)",
            "\u001b[0;32m<ipython-input-17-186da3229da0>\u001b[0m in \u001b[0;36m<cell line: 162>\u001b[0;34m()\u001b[0m\n\u001b[1;32m    160\u001b[0m \u001b[0;31m# loop_forever for simplicity, here you need to stop the loop manually\u001b[0m\u001b[0;34m\u001b[0m\u001b[0;34m\u001b[0m\u001b[0m\n\u001b[1;32m    161\u001b[0m \u001b[0;31m# you can also use loop_start and loop_stop\u001b[0m\u001b[0;34m\u001b[0m\u001b[0;34m\u001b[0m\u001b[0m\n\u001b[0;32m--> 162\u001b[0;31m \u001b[0mclient\u001b[0m\u001b[0;34m.\u001b[0m\u001b[0mloop_forever\u001b[0m\u001b[0;34m(\u001b[0m\u001b[0;34m)\u001b[0m\u001b[0;34m\u001b[0m\u001b[0;34m\u001b[0m\u001b[0m\n\u001b[0m",
            "\u001b[0;32m/usr/local/lib/python3.10/dist-packages/paho/mqtt/client.py\u001b[0m in \u001b[0;36mloop_forever\u001b[0;34m(self, timeout, max_packets, retry_first_connection)\u001b[0m\n\u001b[1;32m   1754\u001b[0m             \u001b[0mrc\u001b[0m \u001b[0;34m=\u001b[0m \u001b[0mMQTT_ERR_SUCCESS\u001b[0m\u001b[0;34m\u001b[0m\u001b[0;34m\u001b[0m\u001b[0m\n\u001b[1;32m   1755\u001b[0m             \u001b[0;32mwhile\u001b[0m \u001b[0mrc\u001b[0m \u001b[0;34m==\u001b[0m \u001b[0mMQTT_ERR_SUCCESS\u001b[0m\u001b[0;34m:\u001b[0m\u001b[0;34m\u001b[0m\u001b[0;34m\u001b[0m\u001b[0m\n\u001b[0;32m-> 1756\u001b[0;31m                 \u001b[0mrc\u001b[0m \u001b[0;34m=\u001b[0m \u001b[0mself\u001b[0m\u001b[0;34m.\u001b[0m\u001b[0m_loop\u001b[0m\u001b[0;34m(\u001b[0m\u001b[0mtimeout\u001b[0m\u001b[0;34m)\u001b[0m\u001b[0;34m\u001b[0m\u001b[0;34m\u001b[0m\u001b[0m\n\u001b[0m\u001b[1;32m   1757\u001b[0m                 \u001b[0;31m# We don't need to worry about locking here, because we've\u001b[0m\u001b[0;34m\u001b[0m\u001b[0;34m\u001b[0m\u001b[0m\n\u001b[1;32m   1758\u001b[0m                 \u001b[0;31m# either called loop_forever() when in single threaded mode, or\u001b[0m\u001b[0;34m\u001b[0m\u001b[0;34m\u001b[0m\u001b[0m\n",
            "\u001b[0;32m/usr/local/lib/python3.10/dist-packages/paho/mqtt/client.py\u001b[0m in \u001b[0;36m_loop\u001b[0;34m(self, timeout)\u001b[0m\n\u001b[1;32m   1162\u001b[0m \u001b[0;34m\u001b[0m\u001b[0m\n\u001b[1;32m   1163\u001b[0m         \u001b[0;32mif\u001b[0m \u001b[0mself\u001b[0m\u001b[0;34m.\u001b[0m\u001b[0m_sock\u001b[0m \u001b[0;32min\u001b[0m \u001b[0msocklist\u001b[0m\u001b[0;34m[\u001b[0m\u001b[0;36m0\u001b[0m\u001b[0;34m]\u001b[0m \u001b[0;32mor\u001b[0m \u001b[0mpending_bytes\u001b[0m \u001b[0;34m>\u001b[0m \u001b[0;36m0\u001b[0m\u001b[0;34m:\u001b[0m\u001b[0;34m\u001b[0m\u001b[0;34m\u001b[0m\u001b[0m\n\u001b[0;32m-> 1164\u001b[0;31m             \u001b[0mrc\u001b[0m \u001b[0;34m=\u001b[0m \u001b[0mself\u001b[0m\u001b[0;34m.\u001b[0m\u001b[0mloop_read\u001b[0m\u001b[0;34m(\u001b[0m\u001b[0;34m)\u001b[0m\u001b[0;34m\u001b[0m\u001b[0;34m\u001b[0m\u001b[0m\n\u001b[0m\u001b[1;32m   1165\u001b[0m             \u001b[0;32mif\u001b[0m \u001b[0mrc\u001b[0m \u001b[0;32mor\u001b[0m \u001b[0mself\u001b[0m\u001b[0;34m.\u001b[0m\u001b[0m_sock\u001b[0m \u001b[0;32mis\u001b[0m \u001b[0;32mNone\u001b[0m\u001b[0;34m:\u001b[0m\u001b[0;34m\u001b[0m\u001b[0;34m\u001b[0m\u001b[0m\n\u001b[1;32m   1166\u001b[0m                 \u001b[0;32mreturn\u001b[0m \u001b[0mrc\u001b[0m\u001b[0;34m\u001b[0m\u001b[0;34m\u001b[0m\u001b[0m\n",
            "\u001b[0;32m/usr/local/lib/python3.10/dist-packages/paho/mqtt/client.py\u001b[0m in \u001b[0;36mloop_read\u001b[0;34m(self, max_packets)\u001b[0m\n\u001b[1;32m   1554\u001b[0m             \u001b[0;32mif\u001b[0m \u001b[0mself\u001b[0m\u001b[0;34m.\u001b[0m\u001b[0m_sock\u001b[0m \u001b[0;32mis\u001b[0m \u001b[0;32mNone\u001b[0m\u001b[0;34m:\u001b[0m\u001b[0;34m\u001b[0m\u001b[0;34m\u001b[0m\u001b[0m\n\u001b[1;32m   1555\u001b[0m                 \u001b[0;32mreturn\u001b[0m \u001b[0mMQTT_ERR_NO_CONN\u001b[0m\u001b[0;34m\u001b[0m\u001b[0;34m\u001b[0m\u001b[0m\n\u001b[0;32m-> 1556\u001b[0;31m             \u001b[0mrc\u001b[0m \u001b[0;34m=\u001b[0m \u001b[0mself\u001b[0m\u001b[0;34m.\u001b[0m\u001b[0m_packet_read\u001b[0m\u001b[0;34m(\u001b[0m\u001b[0;34m)\u001b[0m\u001b[0;34m\u001b[0m\u001b[0;34m\u001b[0m\u001b[0m\n\u001b[0m\u001b[1;32m   1557\u001b[0m             \u001b[0;32mif\u001b[0m \u001b[0mrc\u001b[0m \u001b[0;34m>\u001b[0m \u001b[0;36m0\u001b[0m\u001b[0;34m:\u001b[0m\u001b[0;34m\u001b[0m\u001b[0;34m\u001b[0m\u001b[0m\n\u001b[1;32m   1558\u001b[0m                 \u001b[0;32mreturn\u001b[0m \u001b[0mself\u001b[0m\u001b[0;34m.\u001b[0m\u001b[0m_loop_rc_handle\u001b[0m\u001b[0;34m(\u001b[0m\u001b[0mrc\u001b[0m\u001b[0;34m)\u001b[0m\u001b[0;34m\u001b[0m\u001b[0;34m\u001b[0m\u001b[0m\n",
            "\u001b[0;32m/usr/local/lib/python3.10/dist-packages/paho/mqtt/client.py\u001b[0m in \u001b[0;36m_packet_read\u001b[0;34m(self)\u001b[0m\n\u001b[1;32m   2437\u001b[0m         \u001b[0;31m# All data for this packet is read.\u001b[0m\u001b[0;34m\u001b[0m\u001b[0;34m\u001b[0m\u001b[0m\n\u001b[1;32m   2438\u001b[0m         \u001b[0mself\u001b[0m\u001b[0;34m.\u001b[0m\u001b[0m_in_packet\u001b[0m\u001b[0;34m[\u001b[0m\u001b[0;34m'pos'\u001b[0m\u001b[0;34m]\u001b[0m \u001b[0;34m=\u001b[0m \u001b[0;36m0\u001b[0m\u001b[0;34m\u001b[0m\u001b[0;34m\u001b[0m\u001b[0m\n\u001b[0;32m-> 2439\u001b[0;31m         \u001b[0mrc\u001b[0m \u001b[0;34m=\u001b[0m \u001b[0mself\u001b[0m\u001b[0;34m.\u001b[0m\u001b[0m_packet_handle\u001b[0m\u001b[0;34m(\u001b[0m\u001b[0;34m)\u001b[0m\u001b[0;34m\u001b[0m\u001b[0;34m\u001b[0m\u001b[0m\n\u001b[0m\u001b[1;32m   2440\u001b[0m \u001b[0;34m\u001b[0m\u001b[0m\n\u001b[1;32m   2441\u001b[0m         \u001b[0;31m# Free data and reset values\u001b[0m\u001b[0;34m\u001b[0m\u001b[0;34m\u001b[0m\u001b[0m\n",
            "\u001b[0;32m/usr/local/lib/python3.10/dist-packages/paho/mqtt/client.py\u001b[0m in \u001b[0;36m_packet_handle\u001b[0;34m(self)\u001b[0m\n\u001b[1;32m   3031\u001b[0m             \u001b[0;32mreturn\u001b[0m \u001b[0mself\u001b[0m\u001b[0;34m.\u001b[0m\u001b[0m_handle_pubackcomp\u001b[0m\u001b[0;34m(\u001b[0m\u001b[0;34m\"PUBCOMP\"\u001b[0m\u001b[0;34m)\u001b[0m\u001b[0;34m\u001b[0m\u001b[0;34m\u001b[0m\u001b[0m\n\u001b[1;32m   3032\u001b[0m         \u001b[0;32melif\u001b[0m \u001b[0mcmd\u001b[0m \u001b[0;34m==\u001b[0m \u001b[0mPUBLISH\u001b[0m\u001b[0;34m:\u001b[0m\u001b[0;34m\u001b[0m\u001b[0;34m\u001b[0m\u001b[0m\n\u001b[0;32m-> 3033\u001b[0;31m             \u001b[0;32mreturn\u001b[0m \u001b[0mself\u001b[0m\u001b[0;34m.\u001b[0m\u001b[0m_handle_publish\u001b[0m\u001b[0;34m(\u001b[0m\u001b[0;34m)\u001b[0m\u001b[0;34m\u001b[0m\u001b[0;34m\u001b[0m\u001b[0m\n\u001b[0m\u001b[1;32m   3034\u001b[0m         \u001b[0;32melif\u001b[0m \u001b[0mcmd\u001b[0m \u001b[0;34m==\u001b[0m \u001b[0mPUBREC\u001b[0m\u001b[0;34m:\u001b[0m\u001b[0;34m\u001b[0m\u001b[0;34m\u001b[0m\u001b[0m\n\u001b[1;32m   3035\u001b[0m             \u001b[0;32mreturn\u001b[0m \u001b[0mself\u001b[0m\u001b[0;34m.\u001b[0m\u001b[0m_handle_pubrec\u001b[0m\u001b[0;34m(\u001b[0m\u001b[0;34m)\u001b[0m\u001b[0;34m\u001b[0m\u001b[0;34m\u001b[0m\u001b[0m\n",
            "\u001b[0;32m/usr/local/lib/python3.10/dist-packages/paho/mqtt/client.py\u001b[0m in \u001b[0;36m_handle_publish\u001b[0;34m(self)\u001b[0m\n\u001b[1;32m   3325\u001b[0m         \u001b[0mmessage\u001b[0m\u001b[0;34m.\u001b[0m\u001b[0mtimestamp\u001b[0m \u001b[0;34m=\u001b[0m \u001b[0mtime_func\u001b[0m\u001b[0;34m(\u001b[0m\u001b[0;34m)\u001b[0m\u001b[0;34m\u001b[0m\u001b[0;34m\u001b[0m\u001b[0m\n\u001b[1;32m   3326\u001b[0m         \u001b[0;32mif\u001b[0m \u001b[0mmessage\u001b[0m\u001b[0;34m.\u001b[0m\u001b[0mqos\u001b[0m \u001b[0;34m==\u001b[0m \u001b[0;36m0\u001b[0m\u001b[0;34m:\u001b[0m\u001b[0;34m\u001b[0m\u001b[0;34m\u001b[0m\u001b[0m\n\u001b[0;32m-> 3327\u001b[0;31m             \u001b[0mself\u001b[0m\u001b[0;34m.\u001b[0m\u001b[0m_handle_on_message\u001b[0m\u001b[0;34m(\u001b[0m\u001b[0mmessage\u001b[0m\u001b[0;34m)\u001b[0m\u001b[0;34m\u001b[0m\u001b[0;34m\u001b[0m\u001b[0m\n\u001b[0m\u001b[1;32m   3328\u001b[0m             \u001b[0;32mreturn\u001b[0m \u001b[0mMQTT_ERR_SUCCESS\u001b[0m\u001b[0;34m\u001b[0m\u001b[0;34m\u001b[0m\u001b[0m\n\u001b[1;32m   3329\u001b[0m         \u001b[0;32melif\u001b[0m \u001b[0mmessage\u001b[0m\u001b[0;34m.\u001b[0m\u001b[0mqos\u001b[0m \u001b[0;34m==\u001b[0m \u001b[0;36m1\u001b[0m\u001b[0;34m:\u001b[0m\u001b[0;34m\u001b[0m\u001b[0;34m\u001b[0m\u001b[0m\n",
            "\u001b[0;32m/usr/local/lib/python3.10/dist-packages/paho/mqtt/client.py\u001b[0m in \u001b[0;36m_handle_on_message\u001b[0;34m(self, message)\u001b[0m\n\u001b[1;32m   3568\u001b[0m             \u001b[0;32mwith\u001b[0m \u001b[0mself\u001b[0m\u001b[0;34m.\u001b[0m\u001b[0m_in_callback_mutex\u001b[0m\u001b[0;34m:\u001b[0m\u001b[0;34m\u001b[0m\u001b[0;34m\u001b[0m\u001b[0m\n\u001b[1;32m   3569\u001b[0m                 \u001b[0;32mtry\u001b[0m\u001b[0;34m:\u001b[0m\u001b[0;34m\u001b[0m\u001b[0;34m\u001b[0m\u001b[0m\n\u001b[0;32m-> 3570\u001b[0;31m                     \u001b[0mon_message\u001b[0m\u001b[0;34m(\u001b[0m\u001b[0mself\u001b[0m\u001b[0;34m,\u001b[0m \u001b[0mself\u001b[0m\u001b[0;34m.\u001b[0m\u001b[0m_userdata\u001b[0m\u001b[0;34m,\u001b[0m \u001b[0mmessage\u001b[0m\u001b[0;34m)\u001b[0m\u001b[0;34m\u001b[0m\u001b[0;34m\u001b[0m\u001b[0m\n\u001b[0m\u001b[1;32m   3571\u001b[0m                 \u001b[0;32mexcept\u001b[0m \u001b[0mException\u001b[0m \u001b[0;32mas\u001b[0m \u001b[0merr\u001b[0m\u001b[0;34m:\u001b[0m\u001b[0;34m\u001b[0m\u001b[0;34m\u001b[0m\u001b[0m\n\u001b[1;32m   3572\u001b[0m                     self._easy_log(\n",
            "\u001b[0;32m<ipython-input-17-186da3229da0>\u001b[0m in \u001b[0;36mon_message\u001b[0;34m(client, userdata, msg)\u001b[0m\n\u001b[1;32m     81\u001b[0m         )\n\u001b[1;32m     82\u001b[0m       \u001b[0mwrite_api\u001b[0m\u001b[0;34m.\u001b[0m\u001b[0mwrite\u001b[0m\u001b[0;34m(\u001b[0m\u001b[0mbucket\u001b[0m\u001b[0;34m=\u001b[0m\u001b[0mbucket\u001b[0m\u001b[0;34m,\u001b[0m \u001b[0morg\u001b[0m\u001b[0;34m=\u001b[0m\u001b[0morg\u001b[0m\u001b[0;34m,\u001b[0m \u001b[0mrecord\u001b[0m\u001b[0;34m=\u001b[0m\u001b[0mpoint\u001b[0m\u001b[0;34m)\u001b[0m\u001b[0;34m\u001b[0m\u001b[0;34m\u001b[0m\u001b[0m\n\u001b[0;32m---> 83\u001b[0;31m       \u001b[0mtime\u001b[0m\u001b[0;34m.\u001b[0m\u001b[0msleep\u001b[0m\u001b[0;34m(\u001b[0m\u001b[0;36m1\u001b[0m\u001b[0;34m)\u001b[0m \u001b[0;31m# separate points by 1 second\u001b[0m\u001b[0;34m\u001b[0m\u001b[0;34m\u001b[0m\u001b[0m\n\u001b[0m\u001b[1;32m     84\u001b[0m       \u001b[0mprint\u001b[0m\u001b[0;34m(\u001b[0m\u001b[0;34m\"Complete. Return to the InfluxDB UI.\"\u001b[0m\u001b[0;34m)\u001b[0m\u001b[0;34m\u001b[0m\u001b[0;34m\u001b[0m\u001b[0m\n\u001b[1;32m     85\u001b[0m       \u001b[0mprint\u001b[0m\u001b[0;34m(\u001b[0m\u001b[0msbp\u001b[0m\u001b[0;34m)\u001b[0m\u001b[0;34m\u001b[0m\u001b[0;34m\u001b[0m\u001b[0m\n",
            "\u001b[0;31mKeyboardInterrupt\u001b[0m: "
          ]
        }
      ]
    }
  ]
}