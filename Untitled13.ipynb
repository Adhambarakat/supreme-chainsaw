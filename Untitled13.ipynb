{
  "nbformat": 4,
  "nbformat_minor": 0,
  "metadata": {
    "colab": {
      "provenance": [],
      "authorship_tag": "ABX9TyOt5X/Xa2PDsC2VQfS+FlbD",
      "include_colab_link": true
    },
    "kernelspec": {
      "name": "python3",
      "display_name": "Python 3"
    },
    "language_info": {
      "name": "python"
    }
  },
  "cells": [
    {
      "cell_type": "markdown",
      "metadata": {
        "id": "view-in-github",
        "colab_type": "text"
      },
      "source": [
        "<a href=\"https://colab.research.google.com/github/Adhambarakat/supreme-chainsaw/blob/main/Untitled13.ipynb\" target=\"_parent\"><img src=\"https://colab.research.google.com/assets/colab-badge.svg\" alt=\"Open In Colab\"/></a>"
      ]
    },
    {
      "cell_type": "code",
      "execution_count": 1,
      "metadata": {
        "colab": {
          "base_uri": "https://localhost:8080/"
        },
        "id": "TDCWk7Uk66go",
        "outputId": "14db78c1-c34f-4bbe-b3e7-8dd604cd2236"
      },
      "outputs": [
        {
          "output_type": "stream",
          "name": "stdout",
          "text": [
            "Mounted at /content/drive\n"
          ]
        }
      ],
      "source": [
        "import numpy as np\n",
        "from google.colab import drive\n",
        "drive.mount('/content/drive')\n",
        "import pandas as pd\n"
      ]
    },
    {
      "cell_type": "code",
      "source": [
        "url = 'https://drive.google.com/uc?id={1sjLBuK-EVTWNPCiGu0o3HWfVdiZyUY0\n",
        "}'.format(file_id)\n",
        "df = pd.read_csv(url)\n",
        "ppg=\n",
        "ecg="
      ],
      "metadata": {
        "id": "dgTcSEcz7A3J"
      },
      "execution_count": null,
      "outputs": []
    },
    {
      "cell_type": "code",
      "source": [
        "#calculation\n",
        "def ptt(ecg, ppg):\n",
        "    ecg = np.array(ecg)\n",
        "    ppg = np.array(ppg)\n",
        "    ecg = ecg - np.mean(ecg)\n",
        "    ppg = ppg - np.mean(ppg)\n",
        "    ecg = ecg / np.max(ecg)\n",
        "    ppg = ppg / np.max(ppg)\n",
        "    ecg_diff = np.diff(ecg)\n",
        "    ppg_diff = np.diff(ppg)\n",
        "    ecg_diff[ecg_diff < 0] = 0\n",
        "    ppg_diff[ppg_diff < 0] = 0\n",
        "    ecg_diff = ecg_diff / np.max(ecg_diff)\n",
        "    ppg_diff = ppg_diff / np.max(ppg_diff)\n",
        "    ecg_peaks = np.where(ecg_diff > 0.5)[0]\n",
        "    ppg_peaks = np.where(ppg_diff > 0.5)[0]\n",
        "    if len(ecg_peaks) > len(ppg_peaks):\n",
        "        ecg_peaks = ecg_peaks[:len(ppg_peaks)]\n",
        "    else:\n",
        "        ppg_peaks = ppg_peaks[:len(ecg_peaks)]\n",
        "    return (ppg_peaks - ecg_peaks).mean()\n",
        "\n",
        "    PTT=ptt(ppg,ecg)\n",
        "    PTT.to_excel('/content/drive', index=False)"
      ],
      "metadata": {
        "id": "5EOZp8JH6_E-"
      },
      "execution_count": null,
      "outputs": []
    }
  ]
}