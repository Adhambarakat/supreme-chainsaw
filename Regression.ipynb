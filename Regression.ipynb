{
  "nbformat": 4,
  "nbformat_minor": 0,
  "metadata": {
    "colab": {
      "provenance": [],
      "authorship_tag": "ABX9TyNhTM7qHjho7aghz9GT1FFr",
      "include_colab_link": true
    },
    "kernelspec": {
      "name": "python3",
      "display_name": "Python 3"
    },
    "language_info": {
      "name": "python"
    }
  },
  "cells": [
    {
      "cell_type": "markdown",
      "metadata": {
        "id": "view-in-github",
        "colab_type": "text"
      },
      "source": [
        "<a href=\"https://colab.research.google.com/github/Adhambarakat/supreme-chainsaw/blob/main/Regression.ipynb\" target=\"_parent\"><img src=\"https://colab.research.google.com/assets/colab-badge.svg\" alt=\"Open In Colab\"/></a>"
      ]
    },
    {
      "cell_type": "code",
      "execution_count": 19,
      "metadata": {
        "id": "KTR955lZOUh0"
      },
      "outputs": [],
      "source": [
        "#importing libraries\n",
        "import numpy as np\n",
        "import pandas as pd\n",
        "import tensorflow as tf\n",
        "from tensorflow import keras\n",
        "from keras.engine.training import optimizer\n",
        "from google.colab import files\n",
        "import matplotlib.pyplot as plt\n",
        "import keras.utils as to_categorica\n",
        "\n"
      ]
    },
    {
      "cell_type": "code",
      "source": [
        "#loading data\n",
        "path = files.upload()"
      ],
      "metadata": {
        "id": "GuFLssaNV0m3"
      },
      "execution_count": null,
      "outputs": []
    },
    {
      "cell_type": "code",
      "source": [
        "#allocating data\n",
        "data = pd.read_excel('/content/sbpdbpppg.xlsx')\n",
        "input_dim=1\n",
        "x_train = data['PPG']  #ptt training\n",
        "systolic = data['SBP']  #systolic\n",
        "diastolic = data['DBP'] #diastolic\n",
        "y_train = np.column_stack((systolic,diastolic))"
      ],
      "metadata": {
        "id": "V1NQlMaRUwxr"
      },
      "execution_count": 21,
      "outputs": []
    },
    {
      "cell_type": "code",
      "source": [
        "#defining the model\n",
        "model = tf.keras.Sequential([\n",
        "    tf.keras.layers.Dense(units=2,activation='relu', input_shape=[input_dim])\n",
        "])\n",
        "\n"
      ],
      "metadata": {
        "id": "Bie6pnCrfK-A"
      },
      "execution_count": 22,
      "outputs": []
    },
    {
      "cell_type": "code",
      "source": [
        "#compiling the model\n",
        "model.compile(optimizer='adam',loss='mean_squared_error',metrics=['mae'])"
      ],
      "metadata": {
        "id": "0VhIimp7fiOD"
      },
      "execution_count": 23,
      "outputs": []
    },
    {
      "cell_type": "code",
      "source": [
        "#training the model\n",
        "model.fit(x_train,y_train, epochs=10, batch_size=10)"
      ],
      "metadata": {
        "id": "-Plqdzy2kLJv",
        "colab": {
          "base_uri": "https://localhost:8080/"
        },
        "outputId": "886f2bd0-690e-4bc9-8115-5b190e86a246"
      },
      "execution_count": 32,
      "outputs": [
        {
          "output_type": "stream",
          "name": "stdout",
          "text": [
            "Epoch 1/10\n",
            "104858/104858 [==============================] - 104s 990us/step - loss: 161.6612 - mae: 9.8498\n",
            "Epoch 2/10\n",
            "104858/104858 [==============================] - 105s 1ms/step - loss: 161.6601 - mae: 9.8495\n",
            "Epoch 3/10\n",
            "104858/104858 [==============================] - 103s 980us/step - loss: 161.6602 - mae: 9.8501\n",
            "Epoch 4/10\n",
            "104858/104858 [==============================] - 102s 970us/step - loss: 161.6614 - mae: 9.8497\n",
            "Epoch 5/10\n",
            "104858/104858 [==============================] - 101s 967us/step - loss: 161.6620 - mae: 9.8493\n",
            "Epoch 6/10\n",
            "104858/104858 [==============================] - 102s 969us/step - loss: 161.6619 - mae: 9.8496\n",
            "Epoch 7/10\n",
            "104858/104858 [==============================] - 103s 979us/step - loss: 161.6614 - mae: 9.8501\n",
            "Epoch 8/10\n",
            "104858/104858 [==============================] - 102s 974us/step - loss: 161.6610 - mae: 9.8492\n",
            "Epoch 9/10\n",
            "104858/104858 [==============================] - 102s 971us/step - loss: 161.6597 - mae: 9.8493\n",
            "Epoch 10/10\n",
            "104858/104858 [==============================] - 102s 973us/step - loss: 161.6607 - mae: 9.8499\n"
          ]
        },
        {
          "output_type": "execute_result",
          "data": {
            "text/plain": [
              "<keras.callbacks.History at 0x7f54caf56080>"
            ]
          },
          "metadata": {},
          "execution_count": 32
        }
      ]
    },
    {
      "cell_type": "code",
      "source": [
        "#predictions\n",
        "x_new=[[0.285],[0.311],[0.307],[0.300]]\n",
        "y_new = model.predict(np.array([[x_new]]))\n",
        "print(y_new)"
      ],
      "metadata": {
        "colab": {
          "base_uri": "https://localhost:8080/"
        },
        "id": "3Hossja4kLZl",
        "outputId": "e300e4f3-d21b-4ac3-8076-711165991fee"
      },
      "execution_count": 34,
      "outputs": [
        {
          "output_type": "stream",
          "name": "stdout",
          "text": [
            "1/1 [==============================] - 0s 16ms/step\n",
            "[[[[125.25142   49.88228 ]\n",
            "   [125.25272   49.882755]\n",
            "   [125.252525  49.882683]\n",
            "   [125.252174  49.882553]]]]\n"
          ]
        }
      ]
    }
  ]
}